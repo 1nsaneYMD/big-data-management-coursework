{
 "cells": [
  {
   "cell_type": "markdown",
   "metadata": {},
   "source": [
    "# Big Data Management and Processing, Sofia, 2025\n",
    "\n",
    "## Coursework - *Data Pipeline Development for Effective Data Management and Processing*\n",
    "\n",
    "### Music Industry Trends Analysis\n",
    "### Created by Martin Marinov (7MI3400539) and Nikola Mihaylov (6MI3400619)\n",
    "\n",
    "**1. Data Ingestion**\n",
    "\n",
    "For our project, we decided to use the \"Top Spotify Songs in 73 Countries (Daily Updated)\" dataset from Kaggle (https://www.kaggle.com/datasets/asaniczka/top-spotify-songs-in-73-countries-daily-updated). As of 9th January, the dataset contains 1,584,257 rows and 25 columns, offering a vast repository of information on daily music streaming trends across 73 countries. The dataset was acquired using the Spotify API, ensuring accurate and up-to-date information.\n",
    "Here is a columns overview:\n",
    "- **spotify_id**: The unique identifier for the song in the Spotify database.\n",
    "- **name**: The title of the song.\n",
    "- **artists**: The name(s) of the artist(s) associated with the song. \n",
    "- **daily_rank**: The daily rank of the song in the top 50 list.\n",
    "- **daily_movement**: The change in rankings compared to the previous day.\n",
    "- **weekly_movement**: The change in rankings compared to the previous week.\n",
    "- **country**: The ISO code of the country of the Top 50 Playlist. If Null, then the playlist if 'Global Top 50'.\n",
    "- **snapshot_date**: The date on which the data was collected from the Spotify API. \n",
    "- **popularity**: A measure of the song's current popularity on Spotify.\n",
    "- **is_explicit**: Indicates whether the song contains explicit lyrics.\n",
    "- **duration_ms**: The duration of the song in milliseconds.\n",
    "- **album_name**: The title of the album the song belongs to. \n",
    "- **album_release_date**: The release date of the album the song belongs to.\n",
    "- **danceability**: A measure of how suitable the song is for dancing based on various musical elements.\n",
    "- **energy**: A measure of the intensity and activity level of the song.\n",
    "- **key**: The key of the song.\n",
    "- **loudness**: The overall loudness of the song in decibels.\n",
    "- **mode**: Indicates whether the song is in a major or minor key.\n",
    "- **speechiness**: A measure of the presence of spoken words in the song.\n",
    "- **acousticness**: A measure of the acoustic quality of the song.\n",
    "- **instrumentalness**: A measure of the likelihood that the song does not contain vocals.\n",
    "- **liveness**: A measure of the presence of a live audience in the recording.\n",
    "- **valence**: A measure of the musical positiveness conveyed by the song.\n",
    "- **tempo**: The tempo of the song in beats per minute.\n",
    "- **time_signature**: The estimated overall time signature of the song.\n"
   ]
  },
  {
   "cell_type": "code",
   "execution_count": 2,
   "metadata": {},
   "outputs": [
    {
     "data": {
      "text/plain": [
       "(1584257, 25)"
      ]
     },
     "execution_count": 2,
     "metadata": {},
     "output_type": "execute_result"
    }
   ],
   "source": [
    "import pandas as pd\n",
    "import numpy as np \n",
    "import matplotlib.pyplot as plt\n",
    "import seaborn as sns\n",
    "\n",
    "tracks = pd.read_csv('universal_top_spotify_songs.csv')\n",
    "tracks.shape"
   ]
  },
  {
   "cell_type": "code",
   "execution_count": 3,
   "metadata": {},
   "outputs": [
    {
     "data": {
      "text/html": [
       "<div>\n",
       "<style scoped>\n",
       "    .dataframe tbody tr th:only-of-type {\n",
       "        vertical-align: middle;\n",
       "    }\n",
       "\n",
       "    .dataframe tbody tr th {\n",
       "        vertical-align: top;\n",
       "    }\n",
       "\n",
       "    .dataframe thead th {\n",
       "        text-align: right;\n",
       "    }\n",
       "</style>\n",
       "<table border=\"1\" class=\"dataframe\">\n",
       "  <thead>\n",
       "    <tr style=\"text-align: right;\">\n",
       "      <th></th>\n",
       "      <th>spotify_id</th>\n",
       "      <th>name</th>\n",
       "      <th>artists</th>\n",
       "      <th>daily_rank</th>\n",
       "      <th>daily_movement</th>\n",
       "      <th>weekly_movement</th>\n",
       "      <th>country</th>\n",
       "      <th>snapshot_date</th>\n",
       "      <th>popularity</th>\n",
       "      <th>is_explicit</th>\n",
       "      <th>...</th>\n",
       "      <th>key</th>\n",
       "      <th>loudness</th>\n",
       "      <th>mode</th>\n",
       "      <th>speechiness</th>\n",
       "      <th>acousticness</th>\n",
       "      <th>instrumentalness</th>\n",
       "      <th>liveness</th>\n",
       "      <th>valence</th>\n",
       "      <th>tempo</th>\n",
       "      <th>time_signature</th>\n",
       "    </tr>\n",
       "  </thead>\n",
       "  <tbody>\n",
       "    <tr>\n",
       "      <th>0</th>\n",
       "      <td>2plbrEY59IikOBgBGLjaoe</td>\n",
       "      <td>Die With A Smile</td>\n",
       "      <td>Lady Gaga, Bruno Mars</td>\n",
       "      <td>1</td>\n",
       "      <td>0</td>\n",
       "      <td>0</td>\n",
       "      <td>NaN</td>\n",
       "      <td>2025-01-08</td>\n",
       "      <td>100</td>\n",
       "      <td>False</td>\n",
       "      <td>...</td>\n",
       "      <td>6</td>\n",
       "      <td>-7.777</td>\n",
       "      <td>0</td>\n",
       "      <td>0.0304</td>\n",
       "      <td>0.3080</td>\n",
       "      <td>0.0000</td>\n",
       "      <td>0.122</td>\n",
       "      <td>0.535</td>\n",
       "      <td>157.969</td>\n",
       "      <td>3</td>\n",
       "    </tr>\n",
       "    <tr>\n",
       "      <th>1</th>\n",
       "      <td>4wJ5Qq0jBN4ajy7ouZIV1c</td>\n",
       "      <td>APT.</td>\n",
       "      <td>ROSÉ, Bruno Mars</td>\n",
       "      <td>2</td>\n",
       "      <td>0</td>\n",
       "      <td>0</td>\n",
       "      <td>NaN</td>\n",
       "      <td>2025-01-08</td>\n",
       "      <td>89</td>\n",
       "      <td>False</td>\n",
       "      <td>...</td>\n",
       "      <td>0</td>\n",
       "      <td>-4.477</td>\n",
       "      <td>0</td>\n",
       "      <td>0.2600</td>\n",
       "      <td>0.0283</td>\n",
       "      <td>0.0000</td>\n",
       "      <td>0.355</td>\n",
       "      <td>0.939</td>\n",
       "      <td>149.027</td>\n",
       "      <td>4</td>\n",
       "    </tr>\n",
       "    <tr>\n",
       "      <th>2</th>\n",
       "      <td>7ne4VBA60CxGM75vw0EYad</td>\n",
       "      <td>That’s So True</td>\n",
       "      <td>Gracie Abrams</td>\n",
       "      <td>3</td>\n",
       "      <td>0</td>\n",
       "      <td>0</td>\n",
       "      <td>NaN</td>\n",
       "      <td>2025-01-08</td>\n",
       "      <td>96</td>\n",
       "      <td>True</td>\n",
       "      <td>...</td>\n",
       "      <td>1</td>\n",
       "      <td>-4.169</td>\n",
       "      <td>1</td>\n",
       "      <td>0.0368</td>\n",
       "      <td>0.2140</td>\n",
       "      <td>0.0000</td>\n",
       "      <td>0.159</td>\n",
       "      <td>0.372</td>\n",
       "      <td>108.548</td>\n",
       "      <td>4</td>\n",
       "    </tr>\n",
       "    <tr>\n",
       "      <th>3</th>\n",
       "      <td>6dOtVTDdiauQNBQEDOtlAB</td>\n",
       "      <td>BIRDS OF A FEATHER</td>\n",
       "      <td>Billie Eilish</td>\n",
       "      <td>4</td>\n",
       "      <td>0</td>\n",
       "      <td>0</td>\n",
       "      <td>NaN</td>\n",
       "      <td>2025-01-08</td>\n",
       "      <td>97</td>\n",
       "      <td>False</td>\n",
       "      <td>...</td>\n",
       "      <td>2</td>\n",
       "      <td>-10.171</td>\n",
       "      <td>1</td>\n",
       "      <td>0.0358</td>\n",
       "      <td>0.2000</td>\n",
       "      <td>0.0608</td>\n",
       "      <td>0.117</td>\n",
       "      <td>0.438</td>\n",
       "      <td>104.978</td>\n",
       "      <td>4</td>\n",
       "    </tr>\n",
       "    <tr>\n",
       "      <th>4</th>\n",
       "      <td>5TFD2bmFKGhoCRbX61nXY5</td>\n",
       "      <td>NUEVAYoL</td>\n",
       "      <td>Bad Bunny</td>\n",
       "      <td>5</td>\n",
       "      <td>1</td>\n",
       "      <td>45</td>\n",
       "      <td>NaN</td>\n",
       "      <td>2025-01-08</td>\n",
       "      <td>81</td>\n",
       "      <td>False</td>\n",
       "      <td>...</td>\n",
       "      <td>6</td>\n",
       "      <td>-20.024</td>\n",
       "      <td>1</td>\n",
       "      <td>0.1390</td>\n",
       "      <td>0.2650</td>\n",
       "      <td>0.9950</td>\n",
       "      <td>0.204</td>\n",
       "      <td>0.120</td>\n",
       "      <td>137.922</td>\n",
       "      <td>4</td>\n",
       "    </tr>\n",
       "  </tbody>\n",
       "</table>\n",
       "<p>5 rows × 25 columns</p>\n",
       "</div>"
      ],
      "text/plain": [
       "               spotify_id                name                artists  \\\n",
       "0  2plbrEY59IikOBgBGLjaoe    Die With A Smile  Lady Gaga, Bruno Mars   \n",
       "1  4wJ5Qq0jBN4ajy7ouZIV1c                APT.       ROSÉ, Bruno Mars   \n",
       "2  7ne4VBA60CxGM75vw0EYad      That’s So True          Gracie Abrams   \n",
       "3  6dOtVTDdiauQNBQEDOtlAB  BIRDS OF A FEATHER          Billie Eilish   \n",
       "4  5TFD2bmFKGhoCRbX61nXY5            NUEVAYoL              Bad Bunny   \n",
       "\n",
       "   daily_rank  daily_movement  weekly_movement country snapshot_date  \\\n",
       "0           1               0                0     NaN    2025-01-08   \n",
       "1           2               0                0     NaN    2025-01-08   \n",
       "2           3               0                0     NaN    2025-01-08   \n",
       "3           4               0                0     NaN    2025-01-08   \n",
       "4           5               1               45     NaN    2025-01-08   \n",
       "\n",
       "   popularity  is_explicit  ...  key loudness mode  speechiness  acousticness  \\\n",
       "0         100        False  ...    6   -7.777    0       0.0304        0.3080   \n",
       "1          89        False  ...    0   -4.477    0       0.2600        0.0283   \n",
       "2          96         True  ...    1   -4.169    1       0.0368        0.2140   \n",
       "3          97        False  ...    2  -10.171    1       0.0358        0.2000   \n",
       "4          81        False  ...    6  -20.024    1       0.1390        0.2650   \n",
       "\n",
       "   instrumentalness  liveness  valence    tempo  time_signature  \n",
       "0            0.0000     0.122    0.535  157.969               3  \n",
       "1            0.0000     0.355    0.939  149.027               4  \n",
       "2            0.0000     0.159    0.372  108.548               4  \n",
       "3            0.0608     0.117    0.438  104.978               4  \n",
       "4            0.9950     0.204    0.120  137.922               4  \n",
       "\n",
       "[5 rows x 25 columns]"
      ]
     },
     "execution_count": 3,
     "metadata": {},
     "output_type": "execute_result"
    }
   ],
   "source": [
    "tracks.head()"
   ]
  },
  {
   "cell_type": "markdown",
   "metadata": {},
   "source": [
    "**2. Data Cleaning**"
   ]
  },
  {
   "cell_type": "markdown",
   "metadata": {},
   "source": [
    "Let’s start by examining some basic information about the dataset. After that, we’ll proceed to handle missing data, remove duplicates, and check for any inconsistencies within the data."
   ]
  },
  {
   "cell_type": "code",
   "execution_count": 4,
   "metadata": {},
   "outputs": [
    {
     "name": "stdout",
     "output_type": "stream",
     "text": [
      "<class 'pandas.core.frame.DataFrame'>\n",
      "RangeIndex: 1584257 entries, 0 to 1584256\n",
      "Data columns (total 25 columns):\n",
      " #   Column              Non-Null Count    Dtype  \n",
      "---  ------              --------------    -----  \n",
      " 0   spotify_id          1584257 non-null  object \n",
      " 1   name                1584228 non-null  object \n",
      " 2   artists             1584229 non-null  object \n",
      " 3   daily_rank          1584257 non-null  int64  \n",
      " 4   daily_movement      1584257 non-null  int64  \n",
      " 5   weekly_movement     1584257 non-null  int64  \n",
      " 6   country             1562650 non-null  object \n",
      " 7   snapshot_date       1584257 non-null  object \n",
      " 8   popularity          1584257 non-null  int64  \n",
      " 9   is_explicit         1584257 non-null  bool   \n",
      " 10  duration_ms         1584257 non-null  int64  \n",
      " 11  album_name          1583437 non-null  object \n",
      " 12  album_release_date  1583600 non-null  object \n",
      " 13  danceability        1584257 non-null  float64\n",
      " 14  energy              1584257 non-null  float64\n",
      " 15  key                 1584257 non-null  int64  \n",
      " 16  loudness            1584257 non-null  float64\n",
      " 17  mode                1584257 non-null  int64  \n",
      " 18  speechiness         1584257 non-null  float64\n",
      " 19  acousticness        1584257 non-null  float64\n",
      " 20  instrumentalness    1584257 non-null  float64\n",
      " 21  liveness            1584257 non-null  float64\n",
      " 22  valence             1584257 non-null  float64\n",
      " 23  tempo               1584257 non-null  float64\n",
      " 24  time_signature      1584257 non-null  int64  \n",
      "dtypes: bool(1), float64(9), int64(8), object(7)\n",
      "memory usage: 291.6+ MB\n"
     ]
    }
   ],
   "source": [
    "tracks.info()"
   ]
  },
  {
   "cell_type": "markdown",
   "metadata": {},
   "source": [
    "We have reviewed the data types of the columns; now, let's examine the summary statistics for the numerical values and the count of unique values in each categorical column."
   ]
  },
  {
   "cell_type": "code",
   "execution_count": 5,
   "metadata": {},
   "outputs": [
    {
     "data": {
      "text/html": [
       "<div>\n",
       "<style scoped>\n",
       "    .dataframe tbody tr th:only-of-type {\n",
       "        vertical-align: middle;\n",
       "    }\n",
       "\n",
       "    .dataframe tbody tr th {\n",
       "        vertical-align: top;\n",
       "    }\n",
       "\n",
       "    .dataframe thead th {\n",
       "        text-align: right;\n",
       "    }\n",
       "</style>\n",
       "<table border=\"1\" class=\"dataframe\">\n",
       "  <thead>\n",
       "    <tr style=\"text-align: right;\">\n",
       "      <th></th>\n",
       "      <th>daily_rank</th>\n",
       "      <th>daily_movement</th>\n",
       "      <th>weekly_movement</th>\n",
       "      <th>popularity</th>\n",
       "      <th>duration_ms</th>\n",
       "      <th>danceability</th>\n",
       "      <th>energy</th>\n",
       "      <th>key</th>\n",
       "      <th>loudness</th>\n",
       "      <th>mode</th>\n",
       "      <th>speechiness</th>\n",
       "      <th>acousticness</th>\n",
       "      <th>instrumentalness</th>\n",
       "      <th>liveness</th>\n",
       "      <th>valence</th>\n",
       "      <th>tempo</th>\n",
       "      <th>time_signature</th>\n",
       "    </tr>\n",
       "  </thead>\n",
       "  <tbody>\n",
       "    <tr>\n",
       "      <th>count</th>\n",
       "      <td>1584257.00</td>\n",
       "      <td>1584257.00</td>\n",
       "      <td>1584257.00</td>\n",
       "      <td>1584257.00</td>\n",
       "      <td>1584257.00</td>\n",
       "      <td>1584257.00</td>\n",
       "      <td>1584257.00</td>\n",
       "      <td>1584257.00</td>\n",
       "      <td>1584257.00</td>\n",
       "      <td>1584257.00</td>\n",
       "      <td>1584257.00</td>\n",
       "      <td>1584257.00</td>\n",
       "      <td>1584257.00</td>\n",
       "      <td>1584257.00</td>\n",
       "      <td>1584257.00</td>\n",
       "      <td>1584257.00</td>\n",
       "      <td>1584257.0</td>\n",
       "    </tr>\n",
       "    <tr>\n",
       "      <th>mean</th>\n",
       "      <td>25.49</td>\n",
       "      <td>0.95</td>\n",
       "      <td>2.88</td>\n",
       "      <td>76.25</td>\n",
       "      <td>192564.91</td>\n",
       "      <td>0.68</td>\n",
       "      <td>0.65</td>\n",
       "      <td>5.53</td>\n",
       "      <td>-6.46</td>\n",
       "      <td>0.54</td>\n",
       "      <td>0.09</td>\n",
       "      <td>0.27</td>\n",
       "      <td>0.02</td>\n",
       "      <td>0.17</td>\n",
       "      <td>0.55</td>\n",
       "      <td>122.29</td>\n",
       "      <td>3.9</td>\n",
       "    </tr>\n",
       "    <tr>\n",
       "      <th>std</th>\n",
       "      <td>14.43</td>\n",
       "      <td>7.07</td>\n",
       "      <td>12.19</td>\n",
       "      <td>15.67</td>\n",
       "      <td>49496.96</td>\n",
       "      <td>0.14</td>\n",
       "      <td>0.16</td>\n",
       "      <td>3.58</td>\n",
       "      <td>2.66</td>\n",
       "      <td>0.50</td>\n",
       "      <td>0.09</td>\n",
       "      <td>0.25</td>\n",
       "      <td>0.09</td>\n",
       "      <td>0.12</td>\n",
       "      <td>0.23</td>\n",
       "      <td>28.18</td>\n",
       "      <td>0.4</td>\n",
       "    </tr>\n",
       "    <tr>\n",
       "      <th>min</th>\n",
       "      <td>1.00</td>\n",
       "      <td>-49.00</td>\n",
       "      <td>-49.00</td>\n",
       "      <td>0.00</td>\n",
       "      <td>0.00</td>\n",
       "      <td>0.00</td>\n",
       "      <td>0.00</td>\n",
       "      <td>0.00</td>\n",
       "      <td>-54.34</td>\n",
       "      <td>0.00</td>\n",
       "      <td>0.00</td>\n",
       "      <td>0.00</td>\n",
       "      <td>0.00</td>\n",
       "      <td>0.01</td>\n",
       "      <td>0.00</td>\n",
       "      <td>0.00</td>\n",
       "      <td>0.0</td>\n",
       "    </tr>\n",
       "    <tr>\n",
       "      <th>25%</th>\n",
       "      <td>13.00</td>\n",
       "      <td>-1.00</td>\n",
       "      <td>-3.00</td>\n",
       "      <td>65.00</td>\n",
       "      <td>160688.00</td>\n",
       "      <td>0.59</td>\n",
       "      <td>0.55</td>\n",
       "      <td>2.00</td>\n",
       "      <td>-7.78</td>\n",
       "      <td>0.00</td>\n",
       "      <td>0.04</td>\n",
       "      <td>0.07</td>\n",
       "      <td>0.00</td>\n",
       "      <td>0.10</td>\n",
       "      <td>0.37</td>\n",
       "      <td>100.01</td>\n",
       "      <td>4.0</td>\n",
       "    </tr>\n",
       "    <tr>\n",
       "      <th>50%</th>\n",
       "      <td>25.00</td>\n",
       "      <td>0.00</td>\n",
       "      <td>0.00</td>\n",
       "      <td>80.00</td>\n",
       "      <td>185000.00</td>\n",
       "      <td>0.70</td>\n",
       "      <td>0.67</td>\n",
       "      <td>6.00</td>\n",
       "      <td>-5.98</td>\n",
       "      <td>1.00</td>\n",
       "      <td>0.06</td>\n",
       "      <td>0.19</td>\n",
       "      <td>0.00</td>\n",
       "      <td>0.12</td>\n",
       "      <td>0.55</td>\n",
       "      <td>119.96</td>\n",
       "      <td>4.0</td>\n",
       "    </tr>\n",
       "    <tr>\n",
       "      <th>75%</th>\n",
       "      <td>38.00</td>\n",
       "      <td>2.00</td>\n",
       "      <td>5.00</td>\n",
       "      <td>88.00</td>\n",
       "      <td>217259.00</td>\n",
       "      <td>0.79</td>\n",
       "      <td>0.76</td>\n",
       "      <td>9.00</td>\n",
       "      <td>-4.69</td>\n",
       "      <td>1.00</td>\n",
       "      <td>0.11</td>\n",
       "      <td>0.44</td>\n",
       "      <td>0.00</td>\n",
       "      <td>0.20</td>\n",
       "      <td>0.74</td>\n",
       "      <td>140.11</td>\n",
       "      <td>4.0</td>\n",
       "    </tr>\n",
       "    <tr>\n",
       "      <th>max</th>\n",
       "      <td>50.00</td>\n",
       "      <td>49.00</td>\n",
       "      <td>49.00</td>\n",
       "      <td>100.00</td>\n",
       "      <td>939666.00</td>\n",
       "      <td>0.99</td>\n",
       "      <td>1.00</td>\n",
       "      <td>11.00</td>\n",
       "      <td>3.23</td>\n",
       "      <td>1.00</td>\n",
       "      <td>0.94</td>\n",
       "      <td>1.00</td>\n",
       "      <td>1.00</td>\n",
       "      <td>0.98</td>\n",
       "      <td>0.99</td>\n",
       "      <td>236.09</td>\n",
       "      <td>5.0</td>\n",
       "    </tr>\n",
       "  </tbody>\n",
       "</table>\n",
       "</div>"
      ],
      "text/plain": [
       "       daily_rank  daily_movement  weekly_movement  popularity  duration_ms  \\\n",
       "count  1584257.00      1584257.00       1584257.00  1584257.00   1584257.00   \n",
       "mean        25.49            0.95             2.88       76.25    192564.91   \n",
       "std         14.43            7.07            12.19       15.67     49496.96   \n",
       "min          1.00          -49.00           -49.00        0.00         0.00   \n",
       "25%         13.00           -1.00            -3.00       65.00    160688.00   \n",
       "50%         25.00            0.00             0.00       80.00    185000.00   \n",
       "75%         38.00            2.00             5.00       88.00    217259.00   \n",
       "max         50.00           49.00            49.00      100.00    939666.00   \n",
       "\n",
       "       danceability      energy         key    loudness        mode  \\\n",
       "count    1584257.00  1584257.00  1584257.00  1584257.00  1584257.00   \n",
       "mean           0.68        0.65        5.53       -6.46        0.54   \n",
       "std            0.14        0.16        3.58        2.66        0.50   \n",
       "min            0.00        0.00        0.00      -54.34        0.00   \n",
       "25%            0.59        0.55        2.00       -7.78        0.00   \n",
       "50%            0.70        0.67        6.00       -5.98        1.00   \n",
       "75%            0.79        0.76        9.00       -4.69        1.00   \n",
       "max            0.99        1.00       11.00        3.23        1.00   \n",
       "\n",
       "       speechiness  acousticness  instrumentalness    liveness     valence  \\\n",
       "count   1584257.00    1584257.00        1584257.00  1584257.00  1584257.00   \n",
       "mean          0.09          0.27              0.02        0.17        0.55   \n",
       "std           0.09          0.25              0.09        0.12        0.23   \n",
       "min           0.00          0.00              0.00        0.01        0.00   \n",
       "25%           0.04          0.07              0.00        0.10        0.37   \n",
       "50%           0.06          0.19              0.00        0.12        0.55   \n",
       "75%           0.11          0.44              0.00        0.20        0.74   \n",
       "max           0.94          1.00              1.00        0.98        0.99   \n",
       "\n",
       "            tempo  time_signature  \n",
       "count  1584257.00       1584257.0  \n",
       "mean       122.29             3.9  \n",
       "std         28.18             0.4  \n",
       "min          0.00             0.0  \n",
       "25%        100.01             4.0  \n",
       "50%        119.96             4.0  \n",
       "75%        140.11             4.0  \n",
       "max        236.09             5.0  "
      ]
     },
     "execution_count": 5,
     "metadata": {},
     "output_type": "execute_result"
    }
   ],
   "source": [
    "tracks.describe().round(2)"
   ]
  },
  {
   "cell_type": "code",
   "execution_count": 6,
   "metadata": {},
   "outputs": [
    {
     "data": {
      "text/plain": [
       "spotify_id            19104\n",
       "name                  16872\n",
       "artists               10893\n",
       "country                  72\n",
       "snapshot_date           437\n",
       "album_name            12745\n",
       "album_release_date     2525\n",
       "dtype: int64"
      ]
     },
     "execution_count": 6,
     "metadata": {},
     "output_type": "execute_result"
    }
   ],
   "source": [
    "tracks.select_dtypes(include=['object']).nunique()"
   ]
  },
  {
   "cell_type": "markdown",
   "metadata": {},
   "source": [
    "It's time to check if there are any missing values in the dataset."
   ]
  },
  {
   "cell_type": "code",
   "execution_count": 7,
   "metadata": {},
   "outputs": [
    {
     "data": {
      "text/plain": [
       "spotify_id                0\n",
       "name                     29\n",
       "artists                  28\n",
       "daily_rank                0\n",
       "daily_movement            0\n",
       "weekly_movement           0\n",
       "country               21607\n",
       "snapshot_date             0\n",
       "popularity                0\n",
       "is_explicit               0\n",
       "duration_ms               0\n",
       "album_name              820\n",
       "album_release_date      657\n",
       "danceability              0\n",
       "energy                    0\n",
       "key                       0\n",
       "loudness                  0\n",
       "mode                      0\n",
       "speechiness               0\n",
       "acousticness              0\n",
       "instrumentalness          0\n",
       "liveness                  0\n",
       "valence                   0\n",
       "tempo                     0\n",
       "time_signature            0\n",
       "dtype: int64"
      ]
     },
     "execution_count": 7,
     "metadata": {},
     "output_type": "execute_result"
    }
   ],
   "source": [
    "tracks.isnull().sum()"
   ]
  },
  {
   "cell_type": "markdown",
   "metadata": {},
   "source": [
    "Based on the dataset description, we can see that the null values in the 'country' column correspond to the \"Global Top 50\" chart. As a result, we will fill these null values with the value 'Global'. We will drop the rows with null values in the 'name' and 'artist' columns but will retain those with null values in the 'album_name' and 'album_release_date' columns. This is because the presence of null values in these columns still provides useful information about the song, and the album name and release date are not critical for our analysis. Null values in these columns will be ignored if necessary."
   ]
  },
  {
   "cell_type": "code",
   "execution_count": 8,
   "metadata": {},
   "outputs": [
    {
     "data": {
      "text/plain": [
       "spotify_id              0\n",
       "name                    0\n",
       "artists                 0\n",
       "daily_rank              0\n",
       "daily_movement          0\n",
       "weekly_movement         0\n",
       "country                 0\n",
       "snapshot_date           0\n",
       "popularity              0\n",
       "is_explicit             0\n",
       "duration_ms             0\n",
       "album_name            791\n",
       "album_release_date    629\n",
       "danceability            0\n",
       "energy                  0\n",
       "key                     0\n",
       "loudness                0\n",
       "mode                    0\n",
       "speechiness             0\n",
       "acousticness            0\n",
       "instrumentalness        0\n",
       "liveness                0\n",
       "valence                 0\n",
       "tempo                   0\n",
       "time_signature          0\n",
       "dtype: int64"
      ]
     },
     "execution_count": 8,
     "metadata": {},
     "output_type": "execute_result"
    }
   ],
   "source": [
    "tracks['country'] = tracks['country'].fillna('Global')\n",
    "tracks.dropna(subset=['name', 'artists'], inplace=True)\n",
    "tracks.isnull().sum()"
   ]
  },
  {
   "cell_type": "markdown",
   "metadata": {},
   "source": [
    "Let's now see if we have any duplicated rows in the dataset."
   ]
  },
  {
   "cell_type": "code",
   "execution_count": 9,
   "metadata": {},
   "outputs": [
    {
     "name": "stdout",
     "output_type": "stream",
     "text": [
      "0\n"
     ]
    }
   ],
   "source": [
    "duplicates = tracks[tracks.duplicated()]\n",
    "\n",
    "print(len(duplicates))"
   ]
  },
  {
   "cell_type": "markdown",
   "metadata": {},
   "source": [
    "We will drop the 'spotify_id' column since it doesn't give any information."
   ]
  },
  {
   "cell_type": "code",
   "execution_count": 10,
   "metadata": {},
   "outputs": [
    {
     "data": {
      "text/plain": [
       "Index(['name', 'artists', 'daily_rank', 'daily_movement', 'weekly_movement',\n",
       "       'country', 'snapshot_date', 'popularity', 'is_explicit', 'duration_ms',\n",
       "       'album_name', 'album_release_date', 'danceability', 'energy', 'key',\n",
       "       'loudness', 'mode', 'speechiness', 'acousticness', 'instrumentalness',\n",
       "       'liveness', 'valence', 'tempo', 'time_signature'],\n",
       "      dtype='object')"
      ]
     },
     "execution_count": 10,
     "metadata": {},
     "output_type": "execute_result"
    }
   ],
   "source": [
    "tracks = tracks.drop(columns=\"spotify_id\")\n",
    "tracks.columns"
   ]
  },
  {
   "cell_type": "markdown",
   "metadata": {},
   "source": [
    "**3. Data Transformation**\n",
    "\n",
    "We will make several transformations to our dataset. First, we will add a new column, 'continent,' to group countries by their respective continents, enabling us to extract insights and identify trends at the continental level later. Additionally, we will convert the 'country' column from its ISO-2 code format to the full country name to improve readability and enhance visualization."
   ]
  },
  {
   "cell_type": "code",
   "execution_count": 11,
   "metadata": {},
   "outputs": [
    {
     "data": {
      "text/plain": [
       "array(['Global', 'Africa', 'Asia', 'South America', 'North America',\n",
       "       'Europe', 'Oceania'], dtype=object)"
      ]
     },
     "execution_count": 11,
     "metadata": {},
     "output_type": "execute_result"
    }
   ],
   "source": [
    "import pycountry_convert as pc\n",
    "\n",
    "def get_continent(code):\n",
    "    if code == 'Global':\n",
    "        return 'Global'\n",
    "    try:\n",
    "        continent_code = pc.country_alpha2_to_continent_code(code)\n",
    "        continent_name_map = {\n",
    "            'AF': 'Africa',\n",
    "            'AS': 'Asia',\n",
    "            'EU': 'Europe',\n",
    "            'NA': 'North America',\n",
    "            'SA': 'South America',\n",
    "            'OC': 'Oceania',\n",
    "            'AN': 'Antarctica'\n",
    "        }\n",
    "        return continent_name_map[continent_code]\n",
    "    except Exception:\n",
    "        print(f\"Invalid code {code}\")\n",
    "\n",
    "tracks['continent'] = tracks['country'].apply(get_continent)\n",
    "\n",
    "tracks['continent'].unique()\n"
   ]
  },
  {
   "cell_type": "code",
   "execution_count": 12,
   "metadata": {},
   "outputs": [
    {
     "data": {
      "text/plain": [
       "array(['Global', 'South Africa', 'Viet Nam',\n",
       "       'Venezuela, Bolivarian Republic of', 'Uruguay', 'United States',\n",
       "       'Ukraine', 'Taiwan, Province of China', 'Türkiye', 'Thailand',\n",
       "       'El Salvador', 'Slovakia', 'Singapore', 'Sweden', 'Saudi Arabia',\n",
       "       'Romania', 'Paraguay', 'Portugal', 'Poland', 'Pakistan',\n",
       "       'Philippines', 'Peru', 'Panama', 'New Zealand', 'Norway',\n",
       "       'Netherlands', 'Nicaragua', 'Nigeria', 'Malaysia', 'Mexico',\n",
       "       'Morocco', 'Latvia', 'Luxembourg', 'Lithuania', 'Kazakhstan',\n",
       "       'Korea, Republic of', 'Japan', 'Italy', 'Iceland', 'India',\n",
       "       'Israel', 'Ireland', 'Indonesia', 'Hungary', 'Honduras',\n",
       "       'Hong Kong', 'Guatemala', 'Greece', 'France', 'Finland', 'Spain',\n",
       "       'Egypt', 'Estonia', 'Ecuador', 'Dominican Republic', 'Denmark',\n",
       "       'Germany', 'Czechia', 'Costa Rica', 'Colombia', 'Chile',\n",
       "       'Switzerland', 'Canada', 'Belarus', 'Brazil',\n",
       "       'Bolivia, Plurinational State of', 'Bulgaria', 'Belgium',\n",
       "       'Australia', 'Austria', 'Argentina', 'United Arab Emirates',\n",
       "       'United Kingdom'], dtype=object)"
      ]
     },
     "execution_count": 12,
     "metadata": {},
     "output_type": "execute_result"
    }
   ],
   "source": [
    "import pycountry as pc\n",
    "\n",
    "def iso_to_country_name(code):\n",
    "    if code == 'Global':\n",
    "        return 'Global'\n",
    "    try:\n",
    "        return pc.countries.get(alpha_2=code).name\n",
    "    except AttributeError:\n",
    "        print(f\"Invalid code {code}\")\n",
    "\n",
    "tracks['country'] = tracks['country'].apply(iso_to_country_name)\n",
    "tracks['country'].unique()\n"
   ]
  },
  {
   "cell_type": "markdown",
   "metadata": {},
   "source": [
    "Next, let's analyze the 'artists' column, as it may include multiple artists separated by commas."
   ]
  },
  {
   "cell_type": "code",
   "execution_count": 13,
   "metadata": {},
   "outputs": [
    {
     "data": {
      "text/plain": [
       "0     6383\n",
       "1     3958\n",
       "2     1698\n",
       "3      653\n",
       "4      299\n",
       "5      157\n",
       "6       72\n",
       "7       33\n",
       "8       25\n",
       "9       15\n",
       "10      11\n",
       "11       6\n",
       "12       3\n",
       "13       2\n",
       "14       2\n",
       "15       2\n",
       "16       2\n",
       "17       2\n",
       "18       2\n",
       "19       2\n",
       "20       1\n",
       "21       1\n",
       "22       1\n",
       "23       1\n",
       "24       1\n",
       "25       1\n",
       "dtype: int64"
      ]
     },
     "execution_count": 13,
     "metadata": {},
     "output_type": "execute_result"
    }
   ],
   "source": [
    "artists = tracks['artists'].str.split(', ', expand=True)\n",
    "artists.nunique()"
   ]
  },
  {
   "cell_type": "markdown",
   "metadata": {},
   "source": [
    "We observe that some songs have up to 26 artists, which seems unusual. To manage the dataset size and avoid excessive null values in the artists' columns, we will limit the number of artists per song to a maximum of 4. The first column will represent the main artist, while the remaining three will be considered featured artists."
   ]
  },
  {
   "cell_type": "code",
   "execution_count": 14,
   "metadata": {},
   "outputs": [
    {
     "data": {
      "text/plain": [
       "Index(['main_artist', 'feature_1', 'feature_2', 'feature_3', 'name',\n",
       "       'daily_rank', 'daily_movement', 'weekly_movement', 'country',\n",
       "       'snapshot_date', 'popularity', 'is_explicit', 'duration_ms',\n",
       "       'album_name', 'album_release_date', 'danceability', 'energy', 'key',\n",
       "       'loudness', 'mode', 'speechiness', 'acousticness', 'instrumentalness',\n",
       "       'liveness', 'valence', 'tempo', 'time_signature', 'continent'],\n",
       "      dtype='object')"
      ]
     },
     "execution_count": 14,
     "metadata": {},
     "output_type": "execute_result"
    }
   ],
   "source": [
    "artists.drop(artists.iloc[:, 4:26 ], axis=1, inplace=True)\n",
    "\n",
    "artists_column_map = {\n",
    "    0: 'main_artist',\n",
    "    1: 'feature_1',\n",
    "    2: 'feature_2',\n",
    "    3: 'feature_3'\n",
    "}\n",
    "\n",
    "artists.rename(columns=artists_column_map, inplace=True)\n",
    "tracks = pd.concat([artists, tracks], axis=1)\n",
    "tracks.drop(['artists'], axis=1, inplace= True)\n",
    "tracks.columns"
   ]
  },
  {
   "cell_type": "markdown",
   "metadata": {},
   "source": [
    "Let's also convert the snapshot_date and the album_release_date to datetime format so it can be usable."
   ]
  },
  {
   "cell_type": "code",
   "execution_count": 28,
   "metadata": {},
   "outputs": [
    {
     "name": "stdout",
     "output_type": "stream",
     "text": [
      "<class 'pandas.core.frame.DataFrame'>\n",
      "Index: 1584228 entries, 0 to 1584256\n",
      "Data columns (total 28 columns):\n",
      " #   Column              Non-Null Count    Dtype         \n",
      "---  ------              --------------    -----         \n",
      " 0   main_artist         1584228 non-null  object        \n",
      " 1   feature_1           637439 non-null   object        \n",
      " 2   feature_2           192036 non-null   object        \n",
      " 3   feature_3           59853 non-null    object        \n",
      " 4   name                1584228 non-null  object        \n",
      " 5   daily_rank          1584228 non-null  int64         \n",
      " 6   daily_movement      1584228 non-null  int64         \n",
      " 7   weekly_movement     1584228 non-null  int64         \n",
      " 8   country             1584228 non-null  object        \n",
      " 9   snapshot_date       1584228 non-null  datetime64[ns]\n",
      " 10  popularity          1584228 non-null  int64         \n",
      " 11  is_explicit         1584228 non-null  bool          \n",
      " 12  duration_ms         1584228 non-null  int64         \n",
      " 13  album_name          1583437 non-null  object        \n",
      " 14  album_release_date  1583599 non-null  datetime64[ns]\n",
      " 15  danceability        1584228 non-null  float64       \n",
      " 16  energy              1584228 non-null  float64       \n",
      " 17  key                 1584228 non-null  int64         \n",
      " 18  loudness            1584228 non-null  float64       \n",
      " 19  mode                1584228 non-null  int64         \n",
      " 20  speechiness         1584228 non-null  float64       \n",
      " 21  acousticness        1584228 non-null  float64       \n",
      " 22  instrumentalness    1584228 non-null  float64       \n",
      " 23  liveness            1584228 non-null  float64       \n",
      " 24  valence             1584228 non-null  float64       \n",
      " 25  tempo               1584228 non-null  float64       \n",
      " 26  time_signature      1584228 non-null  int64         \n",
      " 27  continent           1584228 non-null  object        \n",
      "dtypes: bool(1), datetime64[ns](2), float64(9), int64(8), object(8)\n",
      "memory usage: 339.9+ MB\n"
     ]
    }
   ],
   "source": [
    "tracks['snapshot_date'] = pd.to_datetime(tracks['snapshot_date'])\n",
    "tracks['album_release_date'] = pd.to_datetime(tracks['album_release_date'])\n",
    "tracks.info()"
   ]
  },
  {
   "cell_type": "markdown",
   "metadata": {},
   "source": [
    "**4. Data Aggregation**\n",
    "\n",
    "*under construction*"
   ]
  },
  {
   "cell_type": "code",
   "execution_count": 22,
   "metadata": {},
   "outputs": [
    {
     "name": "stdout",
     "output_type": "stream",
     "text": [
      "                 artist  unique_song_count  avg_danceability  avg_energy  \\\n",
      "0     #nācgavilēt koris                  1          0.511000    0.606000   \n",
      "1      $$Double-Dolla$$                  2          0.778500    0.620000   \n",
      "2             $OHO BANI                  3          0.692031    0.643667   \n",
      "3            $ONO$ CLIQ                  1          0.902000    0.904000   \n",
      "4                $hirak                  6          0.859363    0.643901   \n",
      "...                 ...                ...               ...         ...   \n",
      "9901              音田 雅則                  1          0.812000    0.640000   \n",
      "9902                颜人中                  2          0.684197    0.534745   \n",
      "9903            高爾宣 OSN                  3          0.638392    0.677303   \n",
      "9904                다레기                  2          0.832000    0.683500   \n",
      "9905              뷰티풀너드                  1          0.868000    0.823000   \n",
      "\n",
      "      avg_loudness  \n",
      "0        -5.467000  \n",
      "1        -9.711500  \n",
      "2        -6.704335  \n",
      "3        -4.607000  \n",
      "4        -7.876890  \n",
      "...            ...  \n",
      "9901     -8.034000  \n",
      "9902     -7.539307  \n",
      "9903     -4.929789  \n",
      "9904     -7.915000  \n",
      "9905     -4.037000  \n",
      "\n",
      "[9906 rows x 5 columns]\n"
     ]
    }
   ],
   "source": [
    "artist_data = tracks.melt(\n",
    "    id_vars=['name', 'popularity', 'danceability', 'energy', 'loudness'], \n",
    "    value_vars=['main_artist', 'feature_1', 'feature_2', 'feature_3'], \n",
    "    value_name='artist'\n",
    ")\n",
    "artist_data = artist_data.dropna(subset=['artist'])\n",
    "\n",
    "artist_agg = artist_data.groupby('artist').agg(\n",
    "    unique_song_count=('name', 'nunique'),\n",
    "    avg_danceability=('danceability', 'mean'),\n",
    "    avg_energy=('energy', 'mean'),\n",
    "    avg_loudness=('loudness', 'mean')\n",
    ").reset_index()\n",
    "\n",
    "print(artist_agg)"
   ]
  },
  {
   "cell_type": "markdown",
   "metadata": {},
   "source": [
    "**5. Exploratory Data Analysis (EDA)**"
   ]
  }
 ],
 "metadata": {
  "kernelspec": {
   "display_name": "Python 3",
   "language": "python",
   "name": "python3"
  },
  "language_info": {
   "codemirror_mode": {
    "name": "ipython",
    "version": 3
   },
   "file_extension": ".py",
   "mimetype": "text/x-python",
   "name": "python",
   "nbconvert_exporter": "python",
   "pygments_lexer": "ipython3",
   "version": "3.11.5"
  }
 },
 "nbformat": 4,
 "nbformat_minor": 2
}
